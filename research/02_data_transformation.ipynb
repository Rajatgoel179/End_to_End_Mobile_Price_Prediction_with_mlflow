{
 "cells": [
  {
   "cell_type": "code",
   "execution_count": 1,
   "metadata": {},
   "outputs": [],
   "source": [
    "import os "
   ]
  },
  {
   "cell_type": "code",
   "execution_count": 2,
   "metadata": {},
   "outputs": [
    {
     "data": {
      "text/plain": [
       "'c:\\\\Users\\\\rajat\\\\Desktop\\\\Project\\\\End_to_End_Mobile_Price_Prediction\\\\research'"
      ]
     },
     "execution_count": 2,
     "metadata": {},
     "output_type": "execute_result"
    }
   ],
   "source": [
    "%pwd"
   ]
  },
  {
   "cell_type": "code",
   "execution_count": 3,
   "metadata": {},
   "outputs": [],
   "source": [
    "os.chdir(\"../\")"
   ]
  },
  {
   "cell_type": "code",
   "execution_count": 4,
   "metadata": {},
   "outputs": [],
   "source": [
    "from dataclasses import dataclass\n",
    "from pathlib import Path\n",
    "\n",
    "\n",
    "@dataclass(frozen=True)\n",
    "class DataTransformationConfig:\n",
    "    root_dir: Path\n",
    "    data_path: Path"
   ]
  },
  {
   "cell_type": "code",
   "execution_count": 5,
   "metadata": {},
   "outputs": [],
   "source": [
    "from mlProject.constants import *\n",
    "from mlProject.utils.common import read_yaml, create_directories"
   ]
  },
  {
   "cell_type": "code",
   "execution_count": 6,
   "metadata": {},
   "outputs": [],
   "source": [
    "class ConfigurationManager:\n",
    "    def __init__(\n",
    "        self,\n",
    "        config_filepath = CONFIG_FILE_PATH,\n",
    "        params_filepath = PARAMS_FILE_PATH,\n",
    "        schema_filepath = SCHEMA_FILE_PATH):\n",
    "\n",
    "        self.config = read_yaml(config_filepath)\n",
    "        self.params = read_yaml(params_filepath)\n",
    "        self.schema = read_yaml(schema_filepath)\n",
    "\n",
    "        create_directories([self.config.artifacts_root])\n",
    "\n",
    "\n",
    "    \n",
    "    def get_data_transformation_config(self) -> DataTransformationConfig:\n",
    "        config = self.config.data_transformation\n",
    "\n",
    "        create_directories([config.root_dir])\n",
    "\n",
    "        data_transformation_config = DataTransformationConfig(\n",
    "            root_dir=config.root_dir,\n",
    "            data_path=config.data_path,\n",
    "        )\n",
    "\n",
    "        return data_transformation_config"
   ]
  },
  {
   "cell_type": "code",
   "execution_count": 7,
   "metadata": {},
   "outputs": [],
   "source": [
    "import os\n",
    "from mlProject import logger\n",
    "from sklearn.model_selection import train_test_split\n",
    "import pandas as pd\n",
    "import numpy as np\n",
    "from sklearn.preprocessing import LabelEncoder"
   ]
  },
  {
   "cell_type": "code",
   "execution_count": 13,
   "metadata": {},
   "outputs": [],
   "source": [
    "class DataTransformation:\n",
    "    def __init__(self, config: DataTransformationConfig):\n",
    "        self.config = config\n",
    "\n",
    "\n",
    "    def clean_data(self):\n",
    "            df = pd.read_csv(self.config.data_path)\n",
    "            \n",
    "            np.array(df[\"Screen Size (inches)\"])\n",
    "            df[\"Price ($)\"]=df[\"Price ($)\"].str.extract('(\\d+)', expand=False)\n",
    "            df[\"Price ($)\"]=df[\"Price ($)\"].astype(int)\n",
    "            df[\"RAM \"]=df[\"RAM \"].str.replace(\"GB\",\"\")\n",
    "            df[\"RAM \"]=df[\"RAM \"].astype(int)\n",
    "\n",
    "\n",
    "            df[\"Storage \"]=df[\"Storage \"].str.replace(\"GB\",\"\")\n",
    "            df[\"Storage \"]=df[\"Storage \"].astype(int)\n",
    "            df[\"n_cameras\"] = df[\"Camera (MP)\"].str.count('\\\\+') + 1\n",
    "            res1 = []\n",
    "            res2 = []\n",
    "            res3 = []\n",
    "            res4 = []\n",
    "            for x in df[\"Camera (MP)\"]:\n",
    "                 resolutions = x.split('+')\n",
    "                 tam = len(resolutions)\n",
    "                 if tam == 1:\n",
    "                      res1.append(resolutions[0])\n",
    "                      res2.append('0')\n",
    "                      res3.append('0')\n",
    "                      res4.append('0')\n",
    "    \n",
    "                 if tam == 2:\n",
    "                      res1.append(resolutions[0])\n",
    "                      res2.append(resolutions[1])\n",
    "                      res3.append('0')\n",
    "                      res4.append('0')\n",
    "    \n",
    "                 if tam == 3:\n",
    "                      res1.append(resolutions[0])\n",
    "                      res2.append(resolutions[1])\n",
    "                      res3.append(resolutions[2])\n",
    "                      res4.append('0')\n",
    "    \n",
    "                 if tam == 4:\n",
    "                      res1.append(resolutions[0])\n",
    "                      res2.append(resolutions[1])\n",
    "                      res3.append(resolutions[2])\n",
    "                      res4.append(resolutions[3])\n",
    "    \n",
    "            df['res1'] = res1\n",
    "            df['res2'] = res2\n",
    "            df['res3'] = res3\n",
    "            df['res4'] = res4\n",
    "\n",
    "            df= df.drop(columns='Camera (MP)')\n",
    "\n",
    "            df['Screen Size (inches)'].replace(regex=True, inplace=True, to_replace=r'[^0-9.\\-]', value=r'')\n",
    "            cem1 = []\n",
    "            cem2 = []\n",
    "            cem3 = []\n",
    "            for x in df['Screen Size (inches)']:\n",
    "                 resolutions = x.split('.')\n",
    "                 tam = len(resolutions)\n",
    "                 if tam == 1:\n",
    "                      cem1.append(resolutions[0])\n",
    "                      cem2.append('0')\n",
    "                      cem3.append('0')\n",
    "    \n",
    "                 if tam == 2:\n",
    "                      cem1.append(resolutions[0])\n",
    "                      cem2.append(resolutions[1])\n",
    "                      cem3.append('0')\n",
    "                 if tam == 3:\n",
    "                      cem1.append(resolutions[0])\n",
    "                      cem2.append(resolutions[1])\n",
    "                      cem3.append(resolutions[2])\n",
    "    \n",
    "    \n",
    "            df['cem1'] = cem1\n",
    "            df['cem2'] = cem2\n",
    "            df['cem3'] = cem3\n",
    "\n",
    "\n",
    "\n",
    "\n",
    "            df= df.drop(columns='Screen Size (inches)')\n",
    "            df[\"screen\"] = df['cem1']+\".\"+ df[\"cem2\"]\n",
    "            df=df.drop([\"cem1\",\"cem2\",\"cem3\"],axis=1)\n",
    "\n",
    "            df[\"screen\"]=df[\"screen\"].astype(float)\n",
    "            df[\"res1\"]=df[\"res1\"].str.extract('(\\d+)', expand=False)\n",
    "            df[\"res1\"]=df[\"res1\"].astype(int)\n",
    "            df[\"res2\"]=df[\"res2\"].str.extract('(\\d+)', expand=False)\n",
    "            df[\"res2\"]=df[\"res2\"].astype(int)\n",
    "            df[\"res3\"]=df[\"res3\"].str.extract('(\\d+)', expand=False)\n",
    "            df[\"res3\"]=df[\"res3\"].astype(int)\n",
    "            np.array(df[\"res4\"])\n",
    "            df[\"res4\"]=df[\"res4\"].str.extract('(\\d+)', expand=False)\n",
    "            df['res4'].isnull().sum()\n",
    "            df['res4'] = df['res4'].fillna(0)\n",
    "            df['res4'] = df['res4'].astype(int)\n",
    "            df.rename(columns={\"RAM \": \"RAM\", \"Storage \": \"Storage\",\"Battery Capacity (mAh)\": \"Battery_Capacity\"},inplace=True)\n",
    "\n",
    "            \n",
    "            label_encoder = LabelEncoder()\n",
    "            df['Brand'] = label_encoder.fit_transform(df['Brand'])\n",
    "            df = df.drop(\"Model\", axis=1)\n",
    "            return df\n",
    "    \n",
    "\n",
    "    def train_test_spliting(self,df):\n",
    "\n",
    "        # Split the data into training and test sets. (0.75, 0.25) split.\n",
    "        train, test = train_test_split(df, test_size=0.25, random_state=42)\n",
    "\n",
    "        train.to_csv(os.path.join(self.config.root_dir, \"train.csv\"),index = False)\n",
    "        test.to_csv(os.path.join(self.config.root_dir, \"test.csv\"),index = False)\n",
    "\n",
    "        logger.info(\"Splited data into training and test sets\")\n",
    "        logger.info(train.shape)\n",
    "        logger.info(test.shape)\n",
    "\n",
    "        print(train.shape)\n",
    "        print(test.shape)\n",
    "        "
   ]
  },
  {
   "cell_type": "code",
   "execution_count": 14,
   "metadata": {},
   "outputs": [
    {
     "name": "stdout",
     "output_type": "stream",
     "text": [
      "[2024-01-13 00:40:13,598: INFO: common: yaml file: config\\config.yaml loaded successfully]\n",
      "[2024-01-13 00:40:13,607: INFO: common: yaml file: params.yaml loaded successfully]\n",
      "[2024-01-13 00:40:13,619: INFO: common: yaml file: schema.yaml loaded successfully]\n",
      "[2024-01-13 00:40:13,619: INFO: common: created directory at: artifacts]\n",
      "[2024-01-13 00:40:13,627: INFO: common: created directory at: artifacts/data_transformation]\n"
     ]
    },
    {
     "data": {
      "text/plain": [
       "Index(['Brand', 'Storage', 'RAM', 'Battery_Capacity', 'Price ($)', 'n_cameras',\n",
       "       'res1', 'res2', 'res3', 'res4', 'screen'],\n",
       "      dtype='object')"
      ]
     },
     "execution_count": 14,
     "metadata": {},
     "output_type": "execute_result"
    }
   ],
   "source": [
    "config = ConfigurationManager()\n",
    "data_transformation_config = config.get_data_transformation_config()\n",
    "data_transformation = DataTransformation(config=data_transformation_config)\n",
    "cleaned_df = data_transformation.clean_data()\n",
    "# data_transformation.train_test_spliting(cleaned_df)\n",
    "cleaned_df.columns"
   ]
  },
  {
   "cell_type": "code",
   "execution_count": 17,
   "metadata": {},
   "outputs": [
    {
     "name": "stdout",
     "output_type": "stream",
     "text": [
      "<class 'pandas.core.frame.DataFrame'>\n",
      "RangeIndex: 407 entries, 0 to 406\n",
      "Data columns (total 11 columns):\n",
      " #   Column            Non-Null Count  Dtype  \n",
      "---  ------            --------------  -----  \n",
      " 0   Brand             407 non-null    int32  \n",
      " 1   Storage           407 non-null    int32  \n",
      " 2   RAM               407 non-null    int32  \n",
      " 3   Battery_Capacity  407 non-null    int64  \n",
      " 4   Price ($)         407 non-null    int32  \n",
      " 5   n_cameras         407 non-null    int64  \n",
      " 6   res1              407 non-null    int32  \n",
      " 7   res2              407 non-null    int32  \n",
      " 8   res3              407 non-null    int32  \n",
      " 9   res4              407 non-null    int32  \n",
      " 10  screen            407 non-null    float64\n",
      "dtypes: float64(1), int32(8), int64(2)\n",
      "memory usage: 22.4 KB\n"
     ]
    }
   ],
   "source": [
    "cleaned_df.info()"
   ]
  },
  {
   "cell_type": "code",
   "execution_count": null,
   "metadata": {},
   "outputs": [],
   "source": []
  }
 ],
 "metadata": {
  "kernelspec": {
   "display_name": "Python 3",
   "language": "python",
   "name": "python3"
  },
  "language_info": {
   "codemirror_mode": {
    "name": "ipython",
    "version": 3
   },
   "file_extension": ".py",
   "mimetype": "text/x-python",
   "name": "python",
   "nbconvert_exporter": "python",
   "pygments_lexer": "ipython3",
   "version": "3.11.7"
  }
 },
 "nbformat": 4,
 "nbformat_minor": 2
}
