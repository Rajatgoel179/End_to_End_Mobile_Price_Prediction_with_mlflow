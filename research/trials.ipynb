{
 "cells": [
  {
   "cell_type": "code",
   "execution_count": 1,
   "metadata": {},
   "outputs": [],
   "source": [
    "import joblib \n",
    "import numpy as np\n",
    "import pandas as pd\n",
    "from pathlib import Path\n"
   ]
  },
  {
   "cell_type": "code",
   "execution_count": 18,
   "metadata": {},
   "outputs": [
    {
     "name": "stdout",
     "output_type": "stream",
     "text": [
      "[365.47505277]\n"
     ]
    },
    {
     "name": "stderr",
     "output_type": "stream",
     "text": [
      "c:\\Users\\rajat\\Desktop\\Project\\End_to_End_Mobile_Price_Prediction\\venv\\Lib\\site-packages\\sklearn\\base.py:465: UserWarning: X does not have valid feature names, but ElasticNet was fitted with feature names\n",
      "  warnings.warn(\n"
     ]
    }
   ],
   "source": [
    "import joblib\n",
    "import numpy as np\n",
    "from pathlib import Path\n",
    "\n",
    "class PredictionPipeline:\n",
    "    def __init__(self):\n",
    "        # Assuming that joblib and numpy have been imported\n",
    "        self.model = joblib.load(r\"C:\\Users\\rajat\\Desktop\\Project\\End_to_End_Mobile_Price_Prediction\\artifacts\\model_trainer\\model.joblib\")\n",
    "\n",
    "    def predict(self, data):\n",
    "        prediction = self.model.predict(data)\n",
    "        return prediction \n",
    "\n",
    "# Example data\n",
    "data = [2,128, 6, 6000, 3, 12, 12, 12, 12, 0]\n",
    "data = np.array(data).reshape(1, 10)\n",
    "\n",
    "# Create an instance of PredictionPipeline\n",
    "pipeline = PredictionPipeline()\n",
    "\n",
    "# Make a prediction using the instance\n",
    "result = pipeline.predict(data)\n",
    "\n",
    "# Print the result\n",
    "print(result)\n"
   ]
  },
  {
   "cell_type": "code",
   "execution_count": null,
   "metadata": {},
   "outputs": [],
   "source": []
  },
  {
   "cell_type": "code",
   "execution_count": null,
   "metadata": {},
   "outputs": [],
   "source": []
  }
 ],
 "metadata": {
  "kernelspec": {
   "display_name": "venv",
   "language": "python",
   "name": "python3"
  },
  "language_info": {
   "codemirror_mode": {
    "name": "ipython",
    "version": 3
   },
   "file_extension": ".py",
   "mimetype": "text/x-python",
   "name": "python",
   "nbconvert_exporter": "python",
   "pygments_lexer": "ipython3",
   "version": "3.11.7"
  }
 },
 "nbformat": 4,
 "nbformat_minor": 2
}
