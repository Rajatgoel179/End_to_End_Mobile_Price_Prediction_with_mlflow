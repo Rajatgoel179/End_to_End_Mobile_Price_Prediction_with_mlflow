{
 "cells": [
  {
   "cell_type": "code",
   "execution_count": 12,
   "metadata": {},
   "outputs": [],
   "source": [
    "import joblib \n",
    "import numpy as np\n",
    "import pandas as pd\n",
    "from pathlib import Path\n"
   ]
  },
  {
   "cell_type": "code",
   "execution_count": 13,
   "metadata": {},
   "outputs": [],
   "source": [
    "\n",
    "class PredictionPipeline:\n",
    "    def __init__(self):\n",
    "        self.model = joblib.load(Path('artifacts/model_trainer/model.joblib'))\n",
    "\n",
    "    \n",
    "    def predict(self, data):\n",
    "        prediction = self.model.predict(data)\n",
    "\n",
    "        return prediction"
   ]
  },
  {
   "cell_type": "code",
   "execution_count": 14,
   "metadata": {},
   "outputs": [
    {
     "name": "stdout",
     "output_type": "stream",
     "text": [
      "[[   3  128    6 6000    3   12   12   12   12    0]]\n"
     ]
    }
   ],
   "source": [
    "data = [3,128,6,6000,3,12,12,12,12,0]\n",
    "data = np.array(data).reshape(1, 10)\n",
    "print(data)"
   ]
  },
  {
   "cell_type": "code",
   "execution_count": 15,
   "metadata": {},
   "outputs": [
    {
     "ename": "TypeError",
     "evalue": "PredictionPipeline.predict() missing 1 required positional argument: 'data'",
     "output_type": "error",
     "traceback": [
      "\u001b[1;31m---------------------------------------------------------------------------\u001b[0m",
      "\u001b[1;31mTypeError\u001b[0m                                 Traceback (most recent call last)",
      "Cell \u001b[1;32mIn[15], line 1\u001b[0m\n\u001b[1;32m----> 1\u001b[0m \u001b[43mPredictionPipeline\u001b[49m\u001b[38;5;241;43m.\u001b[39;49m\u001b[43mpredict\u001b[49m\u001b[43m(\u001b[49m\u001b[43mdata\u001b[49m\u001b[43m)\u001b[49m\n",
      "\u001b[1;31mTypeError\u001b[0m: PredictionPipeline.predict() missing 1 required positional argument: 'data'"
     ]
    }
   ],
   "source": [
    "PredictionPipeline.predict(data)"
   ]
  },
  {
   "cell_type": "code",
   "execution_count": 18,
   "metadata": {},
   "outputs": [
    {
     "name": "stdout",
     "output_type": "stream",
     "text": [
      "[365.47505277]\n"
     ]
    },
    {
     "name": "stderr",
     "output_type": "stream",
     "text": [
      "c:\\Users\\rajat\\Desktop\\Project\\End_to_End_Mobile_Price_Prediction\\venv\\Lib\\site-packages\\sklearn\\base.py:465: UserWarning: X does not have valid feature names, but ElasticNet was fitted with feature names\n",
      "  warnings.warn(\n"
     ]
    }
   ],
   "source": [
    "import joblib\n",
    "import numpy as np\n",
    "from pathlib import Path\n",
    "\n",
    "class PredictionPipeline:\n",
    "    def __init__(self):\n",
    "        # Assuming that joblib and numpy have been imported\n",
    "        self.model = joblib.load(r\"C:\\Users\\rajat\\Desktop\\Project\\End_to_End_Mobile_Price_Prediction\\artifacts\\model_trainer\\model.joblib\")\n",
    "\n",
    "    def predict(self, data):\n",
    "        prediction = self.model.predict(data)\n",
    "        return prediction \n",
    "\n",
    "# Example data\n",
    "data = [128, 6, 6000, 3, 12, 12, 12, 12, 0]\n",
    "data = np.array(data).reshape(1, 9)\n",
    "\n",
    "# Create an instance of PredictionPipeline\n",
    "pipeline = PredictionPipeline()\n",
    "\n",
    "# Make a prediction using the instance\n",
    "result = pipeline.predict(data)\n",
    "\n",
    "# Print the result\n",
    "print(result)\n"
   ]
  },
  {
   "cell_type": "code",
   "execution_count": null,
   "metadata": {},
   "outputs": [],
   "source": []
  },
  {
   "cell_type": "code",
   "execution_count": null,
   "metadata": {},
   "outputs": [],
   "source": []
  }
 ],
 "metadata": {
  "kernelspec": {
   "display_name": "venv",
   "language": "python",
   "name": "python3"
  },
  "language_info": {
   "codemirror_mode": {
    "name": "ipython",
    "version": 3
   },
   "file_extension": ".py",
   "mimetype": "text/x-python",
   "name": "python",
   "nbconvert_exporter": "python",
   "pygments_lexer": "ipython3",
   "version": "3.11.7"
  }
 },
 "nbformat": 4,
 "nbformat_minor": 2
}
