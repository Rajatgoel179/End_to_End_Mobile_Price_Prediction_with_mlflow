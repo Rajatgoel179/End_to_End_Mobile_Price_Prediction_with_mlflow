{
 "cells": [
  {
   "cell_type": "code",
   "execution_count": 12,
   "metadata": {},
   "outputs": [],
   "source": [
    "import joblib \n",
    "import numpy as np\n",
    "import pandas as pd\n",
    "from pathlib import Path\n"
   ]
  },
  {
   "cell_type": "code",
   "execution_count": 13,
   "metadata": {},
   "outputs": [],
   "source": [
    "\n",
    "class PredictionPipeline:\n",
    "    def __init__(self):\n",
    "        self.model = joblib.load(Path('artifacts/model_trainer/model.joblib'))\n",
    "\n",
    "    \n",
    "    def predict(self, data):\n",
    "        prediction = self.model.predict(data)\n",
    "\n",
    "        return prediction"
   ]
  },
  {
   "cell_type": "code",
   "execution_count": 14,
   "metadata": {},
   "outputs": [
    {
     "name": "stdout",
     "output_type": "stream",
     "text": [
      "[[   3  128    6 6000    3   12   12   12   12    0]]\n"
     ]
    }
   ],
   "source": [
    "data = [3,128,6,6000,3,12,12,12,12,0]\n",
    "data = np.array(data).reshape(1, 10)\n",
    "print(data)"
   ]
  },
  {
   "cell_type": "code",
   "execution_count": 15,
   "metadata": {},
   "outputs": [
    {
     "ename": "TypeError",
     "evalue": "PredictionPipeline.predict() missing 1 required positional argument: 'data'",
     "output_type": "error",
     "traceback": [
      "\u001b[1;31m---------------------------------------------------------------------------\u001b[0m",
      "\u001b[1;31mTypeError\u001b[0m                                 Traceback (most recent call last)",
      "Cell \u001b[1;32mIn[15], line 1\u001b[0m\n\u001b[1;32m----> 1\u001b[0m \u001b[43mPredictionPipeline\u001b[49m\u001b[38;5;241;43m.\u001b[39;49m\u001b[43mpredict\u001b[49m\u001b[43m(\u001b[49m\u001b[43mdata\u001b[49m\u001b[43m)\u001b[49m\n",
      "\u001b[1;31mTypeError\u001b[0m: PredictionPipeline.predict() missing 1 required positional argument: 'data'"
     ]
    }
   ],
   "source": [
    "PredictionPipeline.predict(data)"
   ]
  },
  {
   "cell_type": "code",
   "execution_count": 17,
   "metadata": {},
   "outputs": [
    {
     "ename": "ValueError",
     "evalue": "cannot reshape array of size 9 into shape (1,10)",
     "output_type": "error",
     "traceback": [
      "\u001b[1;31m---------------------------------------------------------------------------\u001b[0m",
      "\u001b[1;31mValueError\u001b[0m                                Traceback (most recent call last)",
      "Cell \u001b[1;32mIn[17], line 16\u001b[0m\n\u001b[0;32m     14\u001b[0m \u001b[38;5;66;03m# Example data\u001b[39;00m\n\u001b[0;32m     15\u001b[0m data \u001b[38;5;241m=\u001b[39m [\u001b[38;5;241m128\u001b[39m, \u001b[38;5;241m6\u001b[39m, \u001b[38;5;241m6000\u001b[39m, \u001b[38;5;241m3\u001b[39m, \u001b[38;5;241m12\u001b[39m, \u001b[38;5;241m12\u001b[39m, \u001b[38;5;241m12\u001b[39m, \u001b[38;5;241m12\u001b[39m, \u001b[38;5;241m0\u001b[39m]\n\u001b[1;32m---> 16\u001b[0m data \u001b[38;5;241m=\u001b[39m \u001b[43mnp\u001b[49m\u001b[38;5;241;43m.\u001b[39;49m\u001b[43marray\u001b[49m\u001b[43m(\u001b[49m\u001b[43mdata\u001b[49m\u001b[43m)\u001b[49m\u001b[38;5;241;43m.\u001b[39;49m\u001b[43mreshape\u001b[49m\u001b[43m(\u001b[49m\u001b[38;5;241;43m1\u001b[39;49m\u001b[43m,\u001b[49m\u001b[43m \u001b[49m\u001b[38;5;241;43m10\u001b[39;49m\u001b[43m)\u001b[49m\n\u001b[0;32m     18\u001b[0m \u001b[38;5;66;03m# Create an instance of PredictionPipeline\u001b[39;00m\n\u001b[0;32m     19\u001b[0m pipeline \u001b[38;5;241m=\u001b[39m PredictionPipeline()\n",
      "\u001b[1;31mValueError\u001b[0m: cannot reshape array of size 9 into shape (1,10)"
     ]
    }
   ],
   "source": [
    "import joblib\n",
    "import numpy as np\n",
    "from pathlib import Path\n",
    "\n",
    "class PredictionPipeline:\n",
    "    def __init__(self):\n",
    "        # Assuming that joblib and numpy have been imported\n",
    "        self.model = joblib.load(r\"C:\\Users\\rajat\\Desktop\\Project\\End_to_End_Mobile_Price_Prediction\\artifacts\\model_trainer\\model.joblib\")\n",
    "\n",
    "    def predict(self, data):\n",
    "        prediction = self.model.predict(data)\n",
    "        return prediction \n",
    "\n",
    "# Example data\n",
    "data = [128, 6, 6000, 3, 12, 12, 12, 12, 0]\n",
    "data = np.array(data).reshape(1, 9)\n",
    "\n",
    "# Create an instance of PredictionPipeline\n",
    "pipeline = PredictionPipeline()\n",
    "\n",
    "# Make a prediction using the instance\n",
    "result = pipeline.predict(data)\n",
    "\n",
    "# Print the result\n",
    "print(result)\n"
   ]
  },
  {
   "cell_type": "code",
   "execution_count": null,
   "metadata": {},
   "outputs": [],
   "source": []
  },
  {
   "cell_type": "code",
   "execution_count": null,
   "metadata": {},
   "outputs": [],
   "source": []
  }
 ],
 "metadata": {
  "kernelspec": {
   "display_name": "venv",
   "language": "python",
   "name": "python3"
  },
  "language_info": {
   "codemirror_mode": {
    "name": "ipython",
    "version": 3
   },
   "file_extension": ".py",
   "mimetype": "text/x-python",
   "name": "python",
   "nbconvert_exporter": "python",
   "pygments_lexer": "ipython3",
   "version": "3.11.7"
  }
 },
 "nbformat": 4,
 "nbformat_minor": 2
}
